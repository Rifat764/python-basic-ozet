{
 "cells": [
  {
   "cell_type": "markdown",
   "metadata": {},
   "source": [
    "## if, elif and else"
   ]
  },
  {
   "cell_type": "markdown",
   "metadata": {},
   "source": [
    "#### Başa if yazdıktan sonra istenilen sayıda elif yazılabilir. if'ten sonra elif ya da else yazılması zorunlu değildir. Yazılan şartlar dışındaki durumlar için else yazılarak kod tamamlanır "
   ]
  },
  {
   "cell_type": "code",
   "execution_count": 1,
   "metadata": {},
   "outputs": [
    {
     "name": "stdout",
     "output_type": "stream",
     "text": [
      "Girdiğiniz sayı 5'in katıdır\n"
     ]
    }
   ],
   "source": [
    "number=int(input(\"Bir tam sayı giriniz : \"))\n",
    "if number % 3==0 and number % 5==0:\n",
    "    print(\"Girdiğiniz satı 15'in katıdır\")\n",
    "elif number % 3==0 :\n",
    "    print(\"Girdiğiniz sayı 3'ün katıdır\")\n",
    "elif number%5==0:\n",
    "    print(\"Girdiğiniz sayı 5'in katıdır\")\n",
    "else:\n",
    "    print(f\"{number} sayısı üçe ve beşe tam bölünmez.\")"
   ]
  },
  {
   "cell_type": "code",
   "execution_count": 1,
   "metadata": {},
   "outputs": [
    {
     "name": "stdout",
     "output_type": "stream",
     "text": [
      "wow :)\n"
     ]
    }
   ],
   "source": [
    "if 7 > 2:\n",
    "    print(\"wow :)\")"
   ]
  }
 ],
 "metadata": {
  "kernelspec": {
   "display_name": "Python 3",
   "language": "python",
   "name": "python3"
  },
  "language_info": {
   "codemirror_mode": {
    "name": "ipython",
    "version": 3
   },
   "file_extension": ".py",
   "mimetype": "text/x-python",
   "name": "python",
   "nbconvert_exporter": "python",
   "pygments_lexer": "ipython3",
   "version": "3.10.7"
  },
  "orig_nbformat": 4,
  "vscode": {
   "interpreter": {
    "hash": "7211b1e4d4cd1a1c47c22365fa0c81b047e2b0b1200e7476b886df099728e1a5"
   }
  }
 },
 "nbformat": 4,
 "nbformat_minor": 2
}
